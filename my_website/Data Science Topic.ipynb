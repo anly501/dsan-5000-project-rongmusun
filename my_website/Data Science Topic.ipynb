{
 "cells": [
  {
   "attachments": {},
   "cell_type": "markdown",
   "metadata": {},
   "source": [
    "## Topic: Stock Price Analysis"
   ]
  },
  {
   "attachments": {},
   "cell_type": "markdown",
   "metadata": {},
   "source": [
    "---\n",
    "title: \"Introduction\"\n",
    "---"
   ]
  },
  {
   "attachments": {},
   "cell_type": "markdown",
   "metadata": {},
   "source": [
    "### Topic introduction:\n",
    "\n",
    "This topic is mainly focusing on the stock price and daily return for multiple high-tech companies presents a fascinating area of study, especially considering the dynamic nature of the technology sector in the global market.\n",
    "\n",
    "Stock refers to the current price at which shares of a high-tech company are trading in the stock market. Discussing stock prices typically involves examining how and why these prices fluctuate over time. Factors influencing stock prices can include the company's financial performance, investor sentiment, market trends, economic indicators, and news related to the company or its industry. For high-tech companies, specific elements such as technological advancements, product launches, patent acquisitions, regulatory changes, and competition can significantly impact stock prices.\n",
    "\n",
    "In this analysis, we will focus on analyzing the daily return of Apple. Apple's stock price can be viewed as a barometer of the overall health of the economy. As one of the largest companies in the world, its performance can influence market indices like the Dow Jones Industrial Average and the S&P 500, which are often seen as indicators of economic stability or volatility. Also, Apple is a leading technology company, and its stock price can reflect broader trends in technology and consumer behavior. High demand for Apple products can drive up its stock price, indicating consumer confidence and a strong market for technological innovations. Changes in Apple's stock price can illustrate investor confidence not only in Apple but in the tech sector as a whole. It can signal how investors perceive the company's future prospects based on factors like new product launches, corporate governance, and market competition."
   ]
  },
  {
   "attachments": {},
   "cell_type": "markdown",
   "metadata": {},
   "source": [
    "## Questions: \n",
    "\n",
    "1. What is the main trends of change on stock price for high-tech companies in recent half years?\n",
    "2. What is the distribution of daily return?\n",
    "3. What are the factors that may influence daily return?\n",
    "4. What do distribution of daily return indicate?\n",
    "5. How can we identify group of daily return?\n",
    "6. What are the impact of new events on stock price?\n",
    "7. Can we predict stock price accurately by ML methods?\n",
    "8. How does Apple stock price differ from other companies?\n",
    "9. Is there a significant correlation between market trends and Apple's stock price?\n",
    "10. How do financial news relate to stock price?\n"
   ]
  }
 ],
 "metadata": {
  "kernelspec": {
   "display_name": "R",
   "language": "R",
   "name": "ir"
  },
  "language_info": {
   "codemirror_mode": "r",
   "file_extension": ".r",
   "mimetype": "text/x-r-source",
   "name": "R",
   "pygments_lexer": "r",
   "version": "4.3.1"
  },
  "orig_nbformat": 4
 },
 "nbformat": 4,
 "nbformat_minor": 2
}
