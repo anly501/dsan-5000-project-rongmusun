{
 "cells": [
  {
   "attachments": {},
   "cell_type": "markdown",
   "metadata": {},
   "source": [
    "---\n",
    "title: \"Topic Introduction\"\n",
    "---"
   ]
  },
  {
   "attachments": {},
   "cell_type": "markdown",
   "metadata": {},
   "source": [
    "## Topic: Measure the content performance on social media"
   ]
  },
  {
   "attachments": {},
   "cell_type": "markdown",
   "metadata": {},
   "source": [
    "---\n",
    "title: \"DSAN5000-Lab1.2\"\n",
    "bibliography: reference.bib\n",
    "---"
   ]
  },
  {
   "attachments": {},
   "cell_type": "markdown",
   "metadata": {},
   "source": [
    "### Topic introduction:\n",
    "\n",
    "This topic will mainly discuss the performance of each type of content in the social media. The type of content would include videos, images, stories, plain texts, etc. The performance of the content would be measured in several perspectives such as the customer engagement (comments, likes, shares, etc.) or the influence (especially for some brand advertises). By understanding which type of content (or combination of types) performs the best in customer engagement would help brand to increase their advertise influence and maximize the profit brought by their ads. There might be already some researches related to the similar content, but the type of content develops rapidly now and there are many different contents (stories) that still lack of research. For example, instead of limiting categories like videos, pictures, I will separate videos into long videos versus short videos, (videos from tiktok or YouTube). I am assuming that short videos may corresponds to a higher performance as most people do not have the patience to watch a long video, or there might be other content format that ignored by people but performs better."
   ]
  },
  {
   "attachments": {},
   "cell_type": "markdown",
   "metadata": {},
   "source": [
    "## Two academic articles"
   ]
  },
  {
   "attachments": {},
   "cell_type": "markdown",
   "metadata": {},
   "source": [
    "### Implementing social media marketing strategically: an empirical assessment [gomez2019integrated]\n",
    "\n",
    "ABSTRACT\n",
    "The purpose of this study is to examine how firms implement social media systematically to drive strategic marketing actions. To this end, the study conceptualises social media implementation as a multidimensional, organisational construct composed of social media strategy, active presence, customer engagement initiatives and social media analytics. Using primary data, the study operationalises the social media implementation construct and tests its effect on firm performance isolated into social media performance and marketing performance. The results indicate that all except the active presence dimension of social media implementation are positively related to social media performance. The results further indicate that social media performance is positively related to marketing performance. The study contributes to the literature by offering a novel conceptualisation and empirical validation of the social media implementation construct."
   ]
  },
  {
   "attachments": {},
   "cell_type": "markdown",
   "metadata": {},
   "source": [
    "### An integrated model of social media brand engagement [tafesse2018implementing]\n",
    "Abstract\n",
    "Despite the increasing use of social media sites to engage consumers, the consumer brand engagement construct is still in its infancy. This study aims to contribute to existing social media research by proposing and empirically testing a model in which social media brand involvement and social media brand communication are the main precursors and brand relationship quality is a relevant outcome of social media brand engagement. The findings show that the influence of social media brand involvement on social media brand engagement is stronger than the influence of social media brand communication. The latter is due to the co-creation of users and firms. Furthermore, interaction and attention are the most relevant components of social media brand engagement, followed by enthusiasm, identification, and absorption. Social media brand engagement is a useful tool for companies to gain competitive advantages. Thus, the findings could help firms better manage their social media tools in the context of social media communication."
   ]
  },
  {
   "attachments": {},
   "cell_type": "markdown",
   "metadata": {},
   "source": [
    "## Questions: \n",
    "\n",
    "1. The popular format of content in social media in 2020s?\n",
    "2. The classification of different format of content?\n",
    "3. The model to measure the performance of the content?\n",
    "4. The best time frame for data? Recent 5 years? 8 years?\n",
    "5. The data type that could support this research?\n",
    "6. How to make different formats of content that have different kinds of data to be consistent?\n",
    "7. Which format would be most popular?\n",
    "8. Which format is the most effective in customer engagement?\n",
    "9. How to weight different type of data (number of comment, likes, shares)?\n",
    "10. Which format performs best in bringing profit for brand or content poster?\n"
   ]
  }
 ],
 "metadata": {
  "kernelspec": {
   "display_name": "R",
   "language": "R",
   "name": "ir"
  },
  "language_info": {
   "codemirror_mode": "r",
   "file_extension": ".r",
   "mimetype": "text/x-r-source",
   "name": "R",
   "pygments_lexer": "r",
   "version": "4.3.1"
  },
  "orig_nbformat": 4
 },
 "nbformat": 4,
 "nbformat_minor": 2
}
