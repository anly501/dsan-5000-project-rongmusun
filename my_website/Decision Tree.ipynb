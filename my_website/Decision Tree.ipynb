{
 "cells": [
  {
   "cell_type": "raw",
   "metadata": {},
   "source": [
    "---\n",
    "title: \"Decision Tree\"\n",
    "---"
   ]
  },
  {
   "attachments": {},
   "cell_type": "markdown",
   "metadata": {},
   "source": [
    "# Decision Tree"
   ]
  },
  {
   "attachments": {},
   "cell_type": "markdown",
   "metadata": {},
   "source": []
  },
  {
   "cell_type": "code",
   "execution_count": 5,
   "metadata": {},
   "outputs": [
    {
     "data": {
      "text/html": [
       "<div>\n",
       "<style scoped>\n",
       "    .dataframe tbody tr th:only-of-type {\n",
       "        vertical-align: middle;\n",
       "    }\n",
       "\n",
       "    .dataframe tbody tr th {\n",
       "        vertical-align: top;\n",
       "    }\n",
       "\n",
       "    .dataframe thead th {\n",
       "        text-align: right;\n",
       "    }\n",
       "</style>\n",
       "<table border=\"1\" class=\"dataframe\">\n",
       "  <thead>\n",
       "    <tr style=\"text-align: right;\">\n",
       "      <th></th>\n",
       "      <th>high</th>\n",
       "      <th>low</th>\n",
       "      <th>volume</th>\n",
       "      <th>daily_return</th>\n",
       "    </tr>\n",
       "  </thead>\n",
       "  <tbody>\n",
       "    <tr>\n",
       "      <th>1</th>\n",
       "      <td>170.9000</td>\n",
       "      <td>167.90</td>\n",
       "      <td>44846017</td>\n",
       "      <td>-1.839398</td>\n",
       "    </tr>\n",
       "    <tr>\n",
       "      <th>2</th>\n",
       "      <td>171.1700</td>\n",
       "      <td>168.87</td>\n",
       "      <td>51130955</td>\n",
       "      <td>-0.281080</td>\n",
       "    </tr>\n",
       "    <tr>\n",
       "      <th>3</th>\n",
       "      <td>168.9600</td>\n",
       "      <td>166.83</td>\n",
       "      <td>58499129</td>\n",
       "      <td>-1.215573</td>\n",
       "    </tr>\n",
       "    <tr>\n",
       "      <th>4</th>\n",
       "      <td>171.3775</td>\n",
       "      <td>165.67</td>\n",
       "      <td>70625258</td>\n",
       "      <td>-0.790631</td>\n",
       "    </tr>\n",
       "    <tr>\n",
       "      <th>5</th>\n",
       "      <td>173.0600</td>\n",
       "      <td>170.65</td>\n",
       "      <td>57156962</td>\n",
       "      <td>2.522620</td>\n",
       "    </tr>\n",
       "    <tr>\n",
       "      <th>...</th>\n",
       "      <td>...</td>\n",
       "      <td>...</td>\n",
       "      <td>...</td>\n",
       "      <td>...</td>\n",
       "    </tr>\n",
       "    <tr>\n",
       "      <th>119</th>\n",
       "      <td>174.0600</td>\n",
       "      <td>171.00</td>\n",
       "      <td>45533138</td>\n",
       "      <td>0.290579</td>\n",
       "    </tr>\n",
       "    <tr>\n",
       "      <th>120</th>\n",
       "      <td>174.5900</td>\n",
       "      <td>172.17</td>\n",
       "      <td>49514676</td>\n",
       "      <td>0.683780</td>\n",
       "    </tr>\n",
       "    <tr>\n",
       "      <th>121</th>\n",
       "      <td>174.0300</td>\n",
       "      <td>171.90</td>\n",
       "      <td>53724501</td>\n",
       "      <td>-0.112230</td>\n",
       "    </tr>\n",
       "    <tr>\n",
       "      <th>122</th>\n",
       "      <td>173.5400</td>\n",
       "      <td>171.60</td>\n",
       "      <td>45326874</td>\n",
       "      <td>-1.028492</td>\n",
       "    </tr>\n",
       "    <tr>\n",
       "      <th>123</th>\n",
       "      <td>173.8500</td>\n",
       "      <td>172.11</td>\n",
       "      <td>55962793</td>\n",
       "      <td>1.007161</td>\n",
       "    </tr>\n",
       "  </tbody>\n",
       "</table>\n",
       "<p>123 rows × 4 columns</p>\n",
       "</div>"
      ],
      "text/plain": [
       "         high     low    volume  daily_return\n",
       "1    170.9000  167.90  44846017     -1.839398\n",
       "2    171.1700  168.87  51130955     -0.281080\n",
       "3    168.9600  166.83  58499129     -1.215573\n",
       "4    171.3775  165.67  70625258     -0.790631\n",
       "5    173.0600  170.65  57156962      2.522620\n",
       "..        ...     ...       ...           ...\n",
       "119  174.0600  171.00  45533138      0.290579\n",
       "120  174.5900  172.17  49514676      0.683780\n",
       "121  174.0300  171.90  53724501     -0.112230\n",
       "122  173.5400  171.60  45326874     -1.028492\n",
       "123  173.8500  172.11  55962793      1.007161\n",
       "\n",
       "[123 rows x 4 columns]"
      ]
     },
     "execution_count": 5,
     "metadata": {},
     "output_type": "execute_result"
    }
   ],
   "source": [
    "from sklearn.tree import DecisionTreeRegressor\n",
    "from sklearn.model_selection import train_test_split\n",
    "from sklearn.metrics import mean_squared_error\n",
    "from math import sqrt\n",
    "import pandas as pd\n",
    "\n",
    "AAPL = pd.read_csv('AAPL_Cleaned.csv')\n",
    "AAPL.head()\n",
    "\n",
    "df = AAPL.drop(columns=['Unnamed: 0', 'timestamp', 'open', 'close'])\n",
    "df.dropna()\n"
   ]
  },
  {
   "cell_type": "code",
   "execution_count": 22,
   "metadata": {},
   "outputs": [
    {
     "data": {
      "text/plain": [
       "(1.2410364517972974, DecisionTreeRegressor(random_state=42))"
      ]
     },
     "execution_count": 22,
     "metadata": {},
     "output_type": "execute_result"
    }
   ],
   "source": [
    "X = df[['high', 'low']]\n",
    "y = df['daily_return']\n",
    "df['daily_return'].fillna(df['daily_return'].mean(), inplace=True)\n",
    "X_train, X_test, y_train, y_test = train_test_split(X, y, test_size=0.2, random_state=42)\n",
    "\n",
    "model = DecisionTreeRegressor(random_state=42)\n",
    "model.fit(X_train, y_train)\n",
    "y_pred = model.predict(X_test)\n",
    "\n",
    "#mse = mean_squared_error(y_test, y_pred)\n",
    "rmse = sqrt(mean_squared_error(y_test, y_pred))\n",
    "\n",
    "rmse, model\n",
    "\n"
   ]
  },
  {
   "cell_type": "code",
   "execution_count": 24,
   "metadata": {},
   "outputs": [
    {
     "data": {
      "text/plain": [
       "((0.56, 0.45454545454545453, 0.5), (0.4, 0.2222222222222222, 0.2))"
      ]
     },
     "execution_count": 24,
     "metadata": {},
     "output_type": "execute_result"
    }
   ],
   "source": [
    "from sklearn.metrics import accuracy_score, precision_score, recall_score\n",
    "from sklearn.dummy import DummyClassifier\n",
    "\n",
    "X = df[['high', 'low', 'volume']]\n",
    "y = df['return_class']\n",
    "\n",
    "X_train, X_test, y_train, y_test = train_test_split(X, y, test_size=0.2, random_state=42)\n",
    "\n",
    "\n",
    "dummy_uniform = DummyClassifier(strategy=\"uniform\", random_state=42)\n",
    "dummy_uniform.fit(X_train, y_train)\n",
    "y_pred_uniform = dummy_uniform.predict(X_test)\n",
    "\n",
    "accuracy_uniform = accuracy_score(y_test, y_pred_uniform)\n",
    "precision_uniform = precision_score(y_test, y_pred_uniform, zero_division=0)\n",
    "recall_uniform = recall_score(y_test, y_pred_uniform, zero_division=0)\n",
    "\n",
    "dummy_stratified = DummyClassifier(strategy=\"stratified\", random_state=42)\n",
    "dummy_stratified.fit(X_train, y_train)\n",
    "y_pred_stratified = dummy_stratified.predict(X_test)\n",
    "\n",
    "accuracy_stratified = accuracy_score(y_test, y_pred_stratified)\n",
    "precision_stratified = precision_score(y_test, y_pred_stratified, zero_division=0)\n",
    "recall_stratified = recall_score(y_test, y_pred_stratified, zero_division=0)\n",
    "\n",
    "(accuracy_uniform, precision_uniform, recall_uniform), (accuracy_stratified, precision_stratified, recall_stratified)\n"
   ]
  }
 ],
 "metadata": {
  "kernelspec": {
   "display_name": "base",
   "language": "python",
   "name": "python3"
  },
  "language_info": {
   "codemirror_mode": {
    "name": "ipython",
    "version": 3
   },
   "file_extension": ".py",
   "mimetype": "text/x-python",
   "name": "python",
   "nbconvert_exporter": "python",
   "pygments_lexer": "ipython3",
   "version": "3.10.13"
  },
  "orig_nbformat": 4
 },
 "nbformat": 4,
 "nbformat_minor": 2
}
