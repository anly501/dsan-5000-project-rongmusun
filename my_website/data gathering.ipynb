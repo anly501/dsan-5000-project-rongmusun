{
 "cells": [
  {
   "attachments": {},
   "cell_type": "raw",
   "metadata": {},
   "source": [
    "---\n",
    "title: \"Data Gathering\"\n",
    "---"
   ]
  },
  {
   "attachments": {},
   "cell_type": "markdown",
   "metadata": {},
   "source": [
    "# Data Gathering"
   ]
  },
  {
   "attachments": {},
   "cell_type": "markdown",
   "metadata": {},
   "source": [
    "## link for raw data "
   ]
  },
  {
   "attachments": {},
   "cell_type": "markdown",
   "metadata": {},
   "source": [
    "https://www.alphavantage.co/query?function=TIME_SERIES_INTRADAY&symbol=IBM&month=2023-09&interval=60min&outputsize=full&apikey={api_key}&datatype=csv"
   ]
  },
  {
   "cell_type": "code",
   "execution_count": 26,
   "metadata": {},
   "outputs": [],
   "source": [
    "import requests\n",
    "import pandas as pd\n",
    "from io import StringIO \n",
    "# Replace 'demo' with your own Alpha Vantage API key\n",
    "api_key = 'PMPL4GDC4VRLN6XJ'\n",
    "\n",
    "# Define the API endpoint with datatype=csv\n",
    "url = f'https://www.alphavantage.co/query?function=TIME_SERIES_INTRADAY&symbol=IBM&month=2023-09&interval=60min&outputsize=full&apikey={api_key}&datatype=csv'\n",
    "\n",
    "# Make the API request\n",
    "response = requests.get(url)\n",
    "\n",
    "# Check if the request was successful\n",
    "if response.status_code == 200:\n",
    "    # Get the CSV data\n",
    "    csv_data = response.text\n",
    "    df = pd.read_csv(StringIO(csv_data))\n",
    "    # Process and analyze the CSV data as needed\n",
    "\n",
    "else:\n",
    "    print(\"Error: Unable to retrieve CSV data from Alpha Vantage API\")\n",
    "\n",
    "df.to_csv('./data/sample.csv')"
   ]
  }
 ],
 "metadata": {
  "kernelspec": {
   "display_name": "base",
   "language": "python",
   "name": "python3"
  },
  "language_info": {
   "codemirror_mode": {
    "name": "ipython",
    "version": 3
   },
   "file_extension": ".py",
   "mimetype": "text/x-python",
   "name": "python",
   "nbconvert_exporter": "python",
   "pygments_lexer": "ipython3",
   "version": "3.10.13"
  },
  "orig_nbformat": 4
 },
 "nbformat": 4,
 "nbformat_minor": 2
}
