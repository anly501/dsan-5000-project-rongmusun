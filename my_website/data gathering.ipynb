{
 "cells": [
  {
   "attachments": {},
   "cell_type": "raw",
   "metadata": {},
   "source": [
    "---\n",
    "title: \"Data Gathering\"\n",
    "---"
   ]
  },
  {
   "attachments": {},
   "cell_type": "markdown",
   "metadata": {},
   "source": [
    "# Data Gathering"
   ]
  },
  {
   "attachments": {},
   "cell_type": "markdown",
   "metadata": {},
   "source": [
    "## link for raw data "
   ]
  },
  {
   "attachments": {},
   "cell_type": "markdown",
   "metadata": {},
   "source": [
    "https://www.alphavantage.co/query?function=TIME_SERIES_INTRADAY&symbol=IBM&month=2023-09&interval=60min&outputsize=full&apikey={api_key}&datatype=csv"
   ]
  },
  {
   "attachments": {},
   "cell_type": "markdown",
   "metadata": {},
   "source": [
    "## Python API"
   ]
  },
  {
   "cell_type": "code",
   "execution_count": 3,
   "metadata": {},
   "outputs": [],
   "source": [
    "import requests\n",
    "import pandas as pd\n",
    "from io import StringIO \n",
    "# Replace 'demo' with your own Alpha Vantage API key\n",
    "api_key = 'PMPL4GDC4VRLN6XJ'\n",
    "\n",
    "# Define the API endpoint with datatype=csv\n",
    "url = f'https://www.alphavantage.co/query?function=TIME_SERIES_INTRADAY&symbol=IBM&month=2023-09&interval=60min&outputsize=full&apikey={api_key}&datatype=csv'\n",
    "\n",
    "# Make the API request\n",
    "response = requests.get(url)\n",
    "\n",
    "# Check if the request was successful\n",
    "if response.status_code == 200:\n",
    "    # Get the CSV data\n",
    "    csv_data = response.text\n",
    "    df = pd.read_csv(StringIO(csv_data))\n",
    "    # Process and analyze the CSV data as needed\n",
    "\n",
    "else:\n",
    "    print(\"Error: Unable to retrieve CSV data from Alpha Vantage API\")\n",
    "\n",
    "df.to_csv('../data/sample_py.csv')"
   ]
  },
  {
   "attachments": {},
   "cell_type": "markdown",
   "metadata": {},
   "source": [
    "## R API"
   ]
  },
  {
   "cell_type": "code",
   "execution_count": 6,
   "metadata": {},
   "outputs": [
    {
     "name": "stderr",
     "output_type": "stream",
     "text": [
      "\u001b[1mRows: \u001b[22m\u001b[34m316\u001b[39m \u001b[1mColumns: \u001b[22m\u001b[34m6\u001b[39m\n",
      "\u001b[36m--\u001b[39m \u001b[1mColumn specification\u001b[22m \u001b[36m--------------------------------------------------------\u001b[39m\n",
      "\u001b[1mDelimiter:\u001b[22m \",\"\n",
      "\u001b[32mdbl\u001b[39m  (5): open, high, low, close, volume\n",
      "\u001b[34mdttm\u001b[39m (1): timestamp\n",
      "\n",
      "\u001b[36mi\u001b[39m Use `spec()` to retrieve the full column specification for this data.\n",
      "\u001b[36mi\u001b[39m Specify the column types or set `show_col_types = FALSE` to quiet this message.\n"
     ]
    }
   ],
   "source": [
    "# Install and load required libraries\n",
    "library(httr)\n",
    "library(readr)\n",
    "\n",
    "# Replace 'demo' with your own Alpha Vantage API key\n",
    "api_key <- \"PMPL4GDC4VRLN6XJ\"\n",
    "\n",
    "# Define the API endpoint\n",
    "url <- paste0(\"https://www.alphavantage.co/query?function=TIME_SERIES_INTRADAY&symbol=IBM&month=2023-09&interval=60min&outputsize=full&apikey=\", api_key, \"&datatype=csv\")\n",
    "\n",
    "# Make the API request\n",
    "response <- GET(url)\n",
    "\n",
    "# Check if the request was successful\n",
    "if (http_status(response)$category == \"Success\") {\n",
    "    # Get the CSV data\n",
    "    csv_data <- content(response, \"text\", encoding = \"UTF-8\")\n",
    "    df <- read_csv(csv_data)\n",
    "  \n",
    "  # Save the data to CSV\n",
    "  write_csv(df, \"../data/sample_r.csv\")\n",
    "} else {\n",
    "  print(\"Error: Unable to retrieve CSV data from Alpha Vantage API\")\n",
    "}\n"
   ]
  },
  {
   "cell_type": "code",
   "execution_count": 2,
   "metadata": {},
   "outputs": [
    {
     "name": "stdout",
     "output_type": "stream",
     "text": [
      "Data stored for AAPL for the recent 6 months.\n",
      "Data stored for MSFT for the recent 6 months.\n",
      "Data stored for GOOGL for the recent 6 months.\n",
      "Data stored for AMZN for the recent 6 months.\n",
      "Data stored for META for the recent 6 months.\n",
      "Data stored for TSLA for the recent 6 months.\n"
     ]
    }
   ],
   "source": [
    "import requests\n",
    "import pandas as pd\n",
    "from datetime import datetime, timedelta\n",
    "\n",
    "# Your Alphavantage API key\n",
    "api_key = 'PMPL4GDC4VRLN6XJ'\n",
    "\n",
    "# Function to fetch the time series data\n",
    "def get_stock_data(symbol, api_key):\n",
    "    # Alphavantage URL for the TIME_SERIES_DAILY endpoint\n",
    "    url = f'https://www.alphavantage.co/query?function=TIME_SERIES_DAILY&symbol={symbol}&outputsize=full&apikey={api_key}&datatype=csv'\n",
    "    r = requests.get(url)\n",
    "    if r.status_code == 200:\n",
    "        # Save the CSV content into a DataFrame\n",
    "        df = pd.read_csv(url)\n",
    "        # Convert the timestamp to datetime and make sure it is in the correct format\n",
    "        df['timestamp'] = pd.to_datetime(df['timestamp'])\n",
    "        # Filter the data for the last 6 months\n",
    "        six_months_ago = datetime.now() - timedelta(days=6*30)  # approximately 6 months\n",
    "        filtered_df = df[df['timestamp'] >= six_months_ago]\n",
    "        return filtered_df\n",
    "    else:\n",
    "        print(f\"Error fetching data: {r.status_code}\")\n",
    "        return None\n",
    "\n",
    "# Replace 'IBM' with the symbol of the stock you want to fetch\n",
    "stock_symbol = 'AAPL'\n",
    "data = get_stock_data(stock_symbol, api_key)\n",
    "\n",
    "# Check if data is returned\n",
    "if data is not None:\n",
    "    # Store the DataFrame into a CSV file\n",
    "    data.to_csv(f'{stock_symbol}_six_months_data.csv', index=False)\n",
    "    print(f\"Data stored for {stock_symbol} for the recent 6 months.\")\n",
    "else:\n",
    "    print(\"No data to store.\")\n",
    "\n",
    "\n",
    "stock_symbol = 'MSFT'\n",
    "data = get_stock_data(stock_symbol, api_key)\n",
    "\n",
    "# Check if data is returned\n",
    "if data is not None:\n",
    "    # Store the DataFrame into a CSV file\n",
    "    data.to_csv(f'{stock_symbol}_six_months_data.csv', index=False)\n",
    "    print(f\"Data stored for {stock_symbol} for the recent 6 months.\")\n",
    "else:\n",
    "    print(\"No data to store.\")\n",
    "\n",
    "stock_symbol = 'GOOGL'\n",
    "data = get_stock_data(stock_symbol, api_key)\n",
    "\n",
    "# Check if data is returned\n",
    "if data is not None:\n",
    "    # Store the DataFrame into a CSV file\n",
    "    data.to_csv(f'{stock_symbol}_six_months_data.csv', index=False)\n",
    "    print(f\"Data stored for {stock_symbol} for the recent 6 months.\")\n",
    "else:\n",
    "    print(\"No data to store.\")\n",
    "\n",
    "stock_symbol = 'AMZN'\n",
    "data = get_stock_data(stock_symbol, api_key)\n",
    "\n",
    "# Check if data is returned\n",
    "if data is not None:\n",
    "    # Store the DataFrame into a CSV file\n",
    "    data.to_csv(f'{stock_symbol}_six_months_data.csv', index=False)\n",
    "    print(f\"Data stored for {stock_symbol} for the recent 6 months.\")\n",
    "else:\n",
    "    print(\"No data to store.\")\n",
    "\n",
    "stock_symbol = 'META'\n",
    "data = get_stock_data(stock_symbol, api_key)\n",
    "\n",
    "# Check if data is returned\n",
    "if data is not None:\n",
    "    # Store the DataFrame into a CSV file\n",
    "    data.to_csv(f'{stock_symbol}_six_months_data.csv', index=False)\n",
    "    print(f\"Data stored for {stock_symbol} for the recent 6 months.\")\n",
    "else:\n",
    "    print(\"No data to store.\")\n",
    "\n",
    "stock_symbol = 'TSLA'\n",
    "data = get_stock_data(stock_symbol, api_key)\n",
    "\n",
    "# Check if data is returned\n",
    "if data is not None:\n",
    "    # Store the DataFrame into a CSV file\n",
    "    data.to_csv(f'{stock_symbol}_six_months_data.csv', index=False)\n",
    "    print(f\"Data stored for {stock_symbol} for the recent 6 months.\")\n",
    "else:\n",
    "    print(\"No data to store.\")\n"
   ]
  },
  {
   "cell_type": "code",
   "execution_count": null,
   "metadata": {},
   "outputs": [],
   "source": []
  }
 ],
 "metadata": {
  "kernelspec": {
   "display_name": "base",
   "language": "python",
   "name": "python3"
  },
  "language_info": {
   "codemirror_mode": {
    "name": "ipython",
    "version": 3
   },
   "file_extension": ".py",
   "mimetype": "text/x-python",
   "name": "python",
   "nbconvert_exporter": "python",
   "pygments_lexer": "ipython3",
   "version": "3.10.13"
  },
  "orig_nbformat": 4
 },
 "nbformat": 4,
 "nbformat_minor": 2
}
